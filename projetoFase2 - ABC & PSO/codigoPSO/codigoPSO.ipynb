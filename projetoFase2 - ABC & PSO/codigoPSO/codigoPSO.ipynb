{
 "cells": [
  {
   "cell_type": "code",
   "execution_count": 1,
   "id": "c159ba68",
   "metadata": {},
   "outputs": [],
   "source": [
    "import matplotlib.pyplot as plt\n",
    "import numpy as np\n",
    "from IPython.display import Image"
   ]
  },
  {
   "cell_type": "code",
   "execution_count": 2,
   "id": "26e756cb",
   "metadata": {},
   "outputs": [],
   "source": [
    "import pyswarms as ps\n",
    "from ecabc import ABC\n",
    "from abc import ABCMeta\n",
    "\n",
    "from pyswarms.utils.functions import single_obj as fx\n",
    "from pyswarms.utils.plotters import (plot_cost_history, plot_contour, plot_surface)\n",
    "from pyswarms.utils.plotters.formatters import Mesher"
   ]
  },
  {
   "cell_type": "code",
   "execution_count": 3,
   "id": "539e29a5",
   "metadata": {},
   "outputs": [],
   "source": [
    "options = {'c1': 0.3, 'c2': 0.5, 'w': 0.9}"
   ]
  },
  {
   "cell_type": "code",
   "execution_count": 4,
   "id": "e61d224f",
   "metadata": {},
   "outputs": [],
   "source": [
    "optimizer = ps.single.GlobalBestPSO(n_particles=100, dimensions=3,options=options)"
   ]
  },
  {
   "cell_type": "code",
   "execution_count": 5,
   "id": "7ec5d30d",
   "metadata": {
    "slideshow": {
     "slide_type": "fragment"
    }
   },
   "outputs": [
    {
     "name": "stdout",
     "output_type": "stream",
     "text": [
      "1.4102691948766925e-07\n",
      "5.147464515314869e-13\n",
      "3.928244196034067e-16\n",
      "1.1736928002097792e-21\n",
      "4.884212450013619e-25\n",
      "6.976333074414481e-29\n",
      "1.2903006532690004e-33\n",
      "8.367500058519047e-38\n",
      "6.422482297658439e-41\n",
      "5.456246508309951e-46\n",
      "6.037766687756299e-50\n",
      "2.8689470919248753e-54\n",
      "1.4512535396263932e-57\n",
      "1.1898085893073572e-61\n",
      "1.0324072953904734e-65\n",
      "3.9544532218827854e-69\n",
      "2.9644332961310646e-73\n",
      "2.6910525637460267e-77\n",
      "4.2094036858186453e-81\n",
      "1.2065522670772046e-85\n",
      "2.0831370612913783e-90\n",
      "1.696684793853261e-94\n",
      "1.426305409209514e-98\n",
      "2.715767963470779e-102\n",
      "2.0117724352599823e-106\n",
      "9.832540433993161e-111\n",
      "7.659380743247814e-115\n",
      "6.060654626705688e-119\n",
      "4.606344217207871e-123\n",
      "8.579805302434249e-128\n"
     ]
    }
   ],
   "source": [
    "for item in range(30):\n",
    "    cost, stats = optimizer.optimize(fx.sphere, iters=100, verbose = False)\n",
    "    print(cost)"
   ]
  },
  {
   "cell_type": "code",
   "execution_count": 6,
   "id": "68937853",
   "metadata": {},
   "outputs": [],
   "source": [
    "#cost_history = optimizer.cost_history\n",
    "\n",
    "#plot_cost_history(cost_history)"
   ]
  },
  {
   "cell_type": "code",
   "execution_count": 7,
   "id": "c5fc8c47",
   "metadata": {},
   "outputs": [],
   "source": [
    "#m = Mesher(func=fx.sphere)\n",
    "\n",
    "#animation = plot_contour(pos_history=optimizer.pos_history, mesher=m, mark=(0,0))"
   ]
  },
  {
   "cell_type": "code",
   "execution_count": 8,
   "id": "ad28ccef",
   "metadata": {},
   "outputs": [],
   "source": [
    "#animation.save('Star.gif', writer='imagemagick', fps=10)\n",
    "#Image(url='Star.gif')"
   ]
  },
  {
   "cell_type": "code",
   "execution_count": 9,
   "id": "67947f30",
   "metadata": {},
   "outputs": [],
   "source": [
    "#from pyswarms.backend.topology import Pyramid\n",
    "\n",
    "#options = {'c1': 0.5, 'c2': 0.3, 'w': 0.9}\n",
    "#my_topology = Pyramid(static=False)\n",
    "\n",
    "#optimizer = ps.single.GeneralOptimizerPSO(n_particles=10, dimensions=2, options=options, topology=my_topology)\n",
    "\n",
    "#stats = optimizer.optimize(fx.sphere, iters=100)\n",
    "\n",
    "#cost_history = optimizer.cost_history\n",
    "\n",
    "#plot_cost_history(cost_history)\n",
    "\n",
    "#m = Mesher(func=fx.sphere)\n",
    "\n",
    "#animation = plot_contour(pos_history=optimizer.pos_history, mesher=m, mark=(0,0))\n",
    "\n",
    "#animation.save('Pyramid.gif', writer='imagemagick', fps=10)\n",
    "#Image(url='Pyramid.gif')"
   ]
  },
  {
   "cell_type": "code",
   "execution_count": null,
   "id": "57af8bed",
   "metadata": {},
   "outputs": [],
   "source": []
  }
 ],
 "metadata": {
  "kernelspec": {
   "display_name": "Python 3 (ipykernel)",
   "language": "python",
   "name": "python3"
  },
  "language_info": {
   "codemirror_mode": {
    "name": "ipython",
    "version": 3
   },
   "file_extension": ".py",
   "mimetype": "text/x-python",
   "name": "python",
   "nbconvert_exporter": "python",
   "pygments_lexer": "ipython3",
   "version": "3.9.12"
  }
 },
 "nbformat": 4,
 "nbformat_minor": 5
}
